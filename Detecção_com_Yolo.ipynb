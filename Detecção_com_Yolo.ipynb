{
  "cells": [
    {
      "cell_type": "markdown",
      "metadata": {
        "id": "view-in-github",
        "colab_type": "text"
      },
      "source": [
        "<a href=\"https://colab.research.google.com/github/casjunior93/Desafio-Dio---Treinamento-da-Rede-YOLO-com-transfer-learning/blob/main/Detec%C3%A7%C3%A3o_com_Yolo.ipynb\" target=\"_parent\"><img src=\"https://colab.research.google.com/assets/colab-badge.svg\" alt=\"Open In Colab\"/></a>"
      ]
    },
    {
      "cell_type": "markdown",
      "metadata": {
        "id": "ZOW8YtW0ZGpr"
      },
      "source": [
        "# Desafio Dio - Treinamento da Rede YOLO com transfer learning"
      ]
    },
    {
      "cell_type": "markdown",
      "metadata": {
        "id": "KHigAe0sZRUU"
      },
      "source": [
        "Conectando com o Drive"
      ]
    },
    {
      "cell_type": "code",
      "execution_count": null,
      "metadata": {
        "id": "QLtQ9PNzYTyv"
      },
      "outputs": [],
      "source": [
        "from google.colab import drive\n",
        "drive.mount('/content/gdrive')"
      ]
    },
    {
      "cell_type": "code",
      "execution_count": null,
      "metadata": {
        "id": "u-RIz6J2ZTPm"
      },
      "outputs": [],
      "source": [
        "!sudo apt-get install tree"
      ]
    },
    {
      "cell_type": "code",
      "execution_count": null,
      "metadata": {
        "id": "jwaBMg4aZ8DL"
      },
      "outputs": [],
      "source": [
        "!tree /content/gdrive/MyDrive/darknet"
      ]
    },
    {
      "cell_type": "markdown",
      "metadata": {
        "id": "_lFH03fZaghx"
      },
      "source": [
        "Checando a versão do CUDA - Já vem pré-instalado no Colab"
      ]
    },
    {
      "cell_type": "code",
      "execution_count": null,
      "metadata": {
        "id": "To8IXn2LaF4J"
      },
      "outputs": [],
      "source": [
        "!/usr/local/cuda/bin/nvcc --version"
      ]
    },
    {
      "cell_type": "markdown",
      "metadata": {
        "id": "yGvGiGNvaxCS"
      },
      "source": [
        "Necessário instalar o cuDNN de acordo com a versão do CUDA\n",
        "\n",
        "Para isso, é preciso [baixar o cuDNN](https://developer.nvidia.com/rdp/cudnn-archive) do site da Nvidia levando em consideração a versão do CUDA verificado anteriormente."
      ]
    },
    {
      "cell_type": "code",
      "execution_count": null,
      "metadata": {
        "id": "vR4gdLpvalT-"
      },
      "outputs": [],
      "source": [
        "!tar -xpvf /content/gdrive/MyDrive/darknet/cuDNN/cudnn-linux-x86_64-8.8.1.3.tar -C /usr/local/\n",
        "!chmod a+r /usr/local/cuda/include/cudnn.h"
      ]
    },
    {
      "cell_type": "code",
      "execution_count": null,
      "metadata": {
        "id": "nxTDqVEHj4hV"
      },
      "outputs": [],
      "source": [
        "!tree /usr/local/cudnn-linux-x86_64-8.8.1.3_cuda11-archive/"
      ]
    },
    {
      "cell_type": "markdown",
      "metadata": {
        "id": "GvTWUErLlioE"
      },
      "source": [
        "# Instalando o Darknet"
      ]
    },
    {
      "cell_type": "code",
      "execution_count": null,
      "metadata": {
        "id": "bQzF-c3skAMo"
      },
      "outputs": [],
      "source": [
        "!git clone https://github.com/kriyeng/darknet/\n",
        "%cd darknet"
      ]
    },
    {
      "cell_type": "code",
      "execution_count": null,
      "metadata": {
        "id": "xSEHiBy0l5yt"
      },
      "outputs": [],
      "source": [
        "!ls"
      ]
    },
    {
      "cell_type": "code",
      "execution_count": null,
      "metadata": {
        "id": "BEUccJQLl6HL"
      },
      "outputs": [],
      "source": [
        "!git checkout feature/google-colab"
      ]
    },
    {
      "cell_type": "markdown",
      "metadata": {
        "id": "Vudk-9SJl--U"
      },
      "source": [
        "Compilando o darknet"
      ]
    },
    {
      "cell_type": "code",
      "execution_count": null,
      "metadata": {
        "id": "L1v8SzMxos_x"
      },
      "outputs": [],
      "source": [
        "#Resolvendo um problema com a versão do opencv\n",
        "#No arquivo Makefile, substituir opencv por opencv4"
      ]
    },
    {
      "cell_type": "code",
      "execution_count": null,
      "metadata": {
        "id": "2BdPB5K-mAS2"
      },
      "outputs": [],
      "source": [
        "!make\n",
        "#!cp ./darknet /content/gdrive/MyDrive/darknet/bin/darknet"
      ]
    }
  ],
  "metadata": {
    "accelerator": "GPU",
    "colab": {
      "provenance": [],
      "authorship_tag": "ABX9TyNkWMoQblhVPdcormfExSrC",
      "include_colab_link": true
    },
    "gpuClass": "standard",
    "kernelspec": {
      "display_name": "Python 3",
      "name": "python3"
    },
    "language_info": {
      "name": "python"
    }
  },
  "nbformat": 4,
  "nbformat_minor": 0
}