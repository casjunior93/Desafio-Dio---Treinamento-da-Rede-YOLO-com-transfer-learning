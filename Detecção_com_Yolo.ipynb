{
  "nbformat": 4,
  "nbformat_minor": 0,
  "metadata": {
    "colab": {
      "provenance": [],
      "authorship_tag": "ABX9TyP6vNO/DYjqFTGXVQkuS0+J",
      "include_colab_link": true
    },
    "kernelspec": {
      "name": "python3",
      "display_name": "Python 3"
    },
    "language_info": {
      "name": "python"
    },
    "accelerator": "GPU",
    "gpuClass": "standard"
  },
  "cells": [
    {
      "cell_type": "markdown",
      "metadata": {
        "id": "view-in-github",
        "colab_type": "text"
      },
      "source": [
        "<a href=\"https://colab.research.google.com/github/casjunior93/Desafio-Dio---Treinamento-da-Rede-YOLO-com-transfer-learning/blob/main/Detec%C3%A7%C3%A3o_com_Yolo.ipynb\" target=\"_parent\"><img src=\"https://colab.research.google.com/assets/colab-badge.svg\" alt=\"Open In Colab\"/></a>"
      ]
    },
    {
      "cell_type": "markdown",
      "source": [
        "# Desafio Dio - Treinamento da Rede YOLO com transfer learning"
      ],
      "metadata": {
        "id": "ZOW8YtW0ZGpr"
      }
    },
    {
      "cell_type": "markdown",
      "source": [
        "Conectando com o Drive"
      ],
      "metadata": {
        "id": "KHigAe0sZRUU"
      }
    },
    {
      "cell_type": "code",
      "execution_count": 1,
      "metadata": {
        "colab": {
          "base_uri": "https://localhost:8080/"
        },
        "id": "QLtQ9PNzYTyv",
        "outputId": "72ff7b5b-80c6-455b-b7c9-bded6e66168f"
      },
      "outputs": [
        {
          "output_type": "stream",
          "name": "stdout",
          "text": [
            "Mounted at /content/gdrive\n"
          ]
        }
      ],
      "source": [
        "from google.colab import drive\n",
        "drive.mount('/content/gdrive')"
      ]
    },
    {
      "cell_type": "code",
      "source": [
        "!sudo apt-get install tree"
      ],
      "metadata": {
        "id": "u-RIz6J2ZTPm"
      },
      "execution_count": null,
      "outputs": []
    },
    {
      "cell_type": "code",
      "source": [
        "!tree /content/gdrive/MyDrive/darknet"
      ],
      "metadata": {
        "colab": {
          "base_uri": "https://localhost:8080/"
        },
        "id": "jwaBMg4aZ8DL",
        "outputId": "1f2debd5-1532-4622-fbfb-d80f705ce246"
      },
      "execution_count": 4,
      "outputs": [
        {
          "output_type": "stream",
          "name": "stdout",
          "text": [
            "\u001b[01;34m/content/gdrive/MyDrive/darknet\u001b[00m\n",
            "\n",
            "0 directories, 0 files\n"
          ]
        }
      ]
    },
    {
      "cell_type": "markdown",
      "source": [
        "Checando a versão do CUDA - Já vem pré-instalado no Colab"
      ],
      "metadata": {
        "id": "_lFH03fZaghx"
      }
    },
    {
      "cell_type": "code",
      "source": [
        "!/usr/local/cuda/bin/nvcc --version"
      ],
      "metadata": {
        "colab": {
          "base_uri": "https://localhost:8080/"
        },
        "id": "To8IXn2LaF4J",
        "outputId": "51f09280-95d6-44ee-d2dd-b7872bce9dc5"
      },
      "execution_count": 5,
      "outputs": [
        {
          "output_type": "stream",
          "name": "stdout",
          "text": [
            "nvcc: NVIDIA (R) Cuda compiler driver\n",
            "Copyright (c) 2005-2022 NVIDIA Corporation\n",
            "Built on Wed_Sep_21_10:33:58_PDT_2022\n",
            "Cuda compilation tools, release 11.8, V11.8.89\n",
            "Build cuda_11.8.r11.8/compiler.31833905_0\n"
          ]
        }
      ]
    },
    {
      "cell_type": "markdown",
      "source": [
        "Necessário instalar o cuDNN de acordo com a versão do CUDA\n",
        "\n",
        "Para isso, é preciso [baixar o cuDNN](https://developer.nvidia.com/rdp/cudnn-archive) do site da Nvidia levando em consideração a versão do CUDA verificado anteriormente."
      ],
      "metadata": {
        "id": "yGvGiGNvaxCS"
      }
    },
    {
      "cell_type": "code",
      "source": [
        "!tar -xzvf gdrive/My\\ Drive/darknet/cuDNN/cudnn-linux-x86_64-8.8.1.3_cuda11-archive.tar.xz -C /usr/local/\n",
        "!chmod a+r /usr/local/cuda/include/cudnn.h"
      ],
      "metadata": {
        "colab": {
          "base_uri": "https://localhost:8080/"
        },
        "id": "vR4gdLpvalT-",
        "outputId": "3446432e-52b1-4a5f-cbae-012ef2174720"
      },
      "execution_count": 7,
      "outputs": [
        {
          "output_type": "stream",
          "name": "stdout",
          "text": [
            "tar (child): gdrive/My Drive/darknet/cuDNN/cudnn-10.0-linux-x64-v11.8.89.tgz: Cannot open: No such file or directory\n",
            "tar (child): Error is not recoverable: exiting now\n",
            "tar: Child returned status 2\n",
            "tar: Error is not recoverable: exiting now\n",
            "chmod: cannot access '/usr/local/cuda/include/cudnn.h': No such file or directory\n"
          ]
        }
      ]
    }
  ]
}